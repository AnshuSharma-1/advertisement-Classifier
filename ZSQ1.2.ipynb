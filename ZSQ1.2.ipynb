{
 "cells": [
  {
   "cell_type": "code",
   "execution_count": 65,
   "metadata": {},
   "outputs": [],
   "source": [
    "import pandas as pd\n",
    "from sklearn.ensemble import RandomForestClassifier\n",
    "from sklearn.metrics import accuracy_score\n",
    "df = pd.read_excel(r'C:\\Users\\Anshu\\Downloads\\ZS Case Challenge.xlsx')\n",
    "d=df.values"
   ]
  },
  {
   "cell_type": "code",
   "execution_count": 15,
   "metadata": {},
   "outputs": [
    {
     "data": {
      "text/plain": [
       "array([[1, 'Cartoons', '10:00-11:59', 150, 'No', 600, 0, 0, 0, 1],\n",
       "       [2, 'Sportsevents', '7:00-10:00', 180, 'Yes', 400, 0, 1, 1, 0],\n",
       "       [3, 'Cartoons', '5:00-7:00', 300, 'No', 300, 0, 0, 0, 0],\n",
       "       [4, 'Movie', '5:00-7:00', 150, 'Yes', 300, 0, 0, 1, 0],\n",
       "       [5, 'Sportsevents', '5:00-7:00', 300, 'No', 400, 0, 1, 0, 0],\n",
       "       [6, 'TV series', '5:00-7:00', 120, 'Yes', 450, 1, 0, 1, 0],\n",
       "       [7, 'TV series', '7:00-10:00', 90, 'No', 200, 1, 0, 1, 0],\n",
       "       [8, 'Sportsevents', '7:00-10:00', 150, 'No', 1000, 0, 1, 1, 1],\n",
       "       [9, 'Sportsevents', '7:00-10:00', 60, 'Yes', 800, 1, 1, 1, 1],\n",
       "       [10, 'Sportsevents', '10:00-11:59', 90, 'No', 450, 1, 1, 0, 0],\n",
       "       [11, 'Movie', '10:00-11:59', 60, 'No', 300, 1, 0, 0, 0],\n",
       "       [12, 'Cartoons', '10:00-11:59', 90, 'Yes', 600, 0, 0, 1, 1],\n",
       "       [13, 'Movie', '5:00-7:00', 120, 'No', 600, 0, 0, 1, 1],\n",
       "       [14, 'Sportsevents', '5:00-7:00', 90, 'Yes', 800, 1, 1, 1, 1],\n",
       "       [15, 'Cartoons', '10:00-11:59', 90, 'No', 500, 0, 0, 0, 0]],\n",
       "      dtype=object)"
      ]
     },
     "execution_count": 15,
     "metadata": {},
     "output_type": "execute_result"
    }
   ],
   "source": [
    "d"
   ]
  },
  {
   "cell_type": "code",
   "execution_count": 66,
   "metadata": {},
   "outputs": [],
   "source": [
    "from sklearn import preprocessing\n",
    "le = preprocessing.LabelEncoder()\n",
    "for i in range(6):\n",
    "    d[:,i] = le.fit_transform(d[:,i])\n"
   ]
  },
  {
   "cell_type": "code",
   "execution_count": 17,
   "metadata": {},
   "outputs": [
    {
     "data": {
      "text/plain": [
       "array([[0, 0, 0, 3, 0, 5, 0, 0, 0, 1],\n",
       "       [1, 2, 2, 4, 1, 2, 0, 1, 1, 0],\n",
       "       [2, 0, 1, 5, 0, 1, 0, 0, 0, 0],\n",
       "       [3, 1, 1, 3, 1, 1, 0, 0, 1, 0],\n",
       "       [4, 2, 1, 5, 0, 2, 0, 1, 0, 0],\n",
       "       [5, 3, 1, 2, 1, 3, 1, 0, 1, 0],\n",
       "       [6, 3, 2, 1, 0, 0, 1, 0, 1, 0],\n",
       "       [7, 2, 2, 3, 0, 7, 0, 1, 1, 1],\n",
       "       [8, 2, 2, 0, 1, 6, 1, 1, 1, 1],\n",
       "       [9, 2, 0, 1, 0, 3, 1, 1, 0, 0],\n",
       "       [10, 1, 0, 0, 0, 1, 1, 0, 0, 0],\n",
       "       [11, 0, 0, 1, 1, 5, 0, 0, 1, 1],\n",
       "       [12, 1, 1, 2, 0, 5, 0, 0, 1, 1],\n",
       "       [13, 2, 1, 1, 1, 6, 1, 1, 1, 1],\n",
       "       [14, 0, 0, 1, 0, 4, 0, 0, 0, 0]], dtype=object)"
      ]
     },
     "execution_count": 17,
     "metadata": {},
     "output_type": "execute_result"
    }
   ],
   "source": [
    "d"
   ]
  },
  {
   "cell_type": "code",
   "execution_count": 67,
   "metadata": {},
   "outputs": [],
   "source": [
    "import numpy as np\n",
    "from sklearn.model_selection import train_test_split"
   ]
  },
  {
   "cell_type": "markdown",
   "metadata": {},
   "source": [
    "### Running the regression model for S1 only"
   ]
  },
  {
   "cell_type": "code",
   "execution_count": 80,
   "metadata": {},
   "outputs": [],
   "source": [
    "X, y = d[:-3, :-4], d[:-3,-4:]\n",
    "X=X.astype('int')\n",
    "y=y.astype('int')"
   ]
  },
  {
   "cell_type": "code",
   "execution_count": 81,
   "metadata": {},
   "outputs": [],
   "source": [
    "from sklearn.preprocessing import StandardScaler\n",
    "Scaler = StandardScaler()\n",
    "X=Scaler.fit_transform(X)\n"
   ]
  },
  {
   "cell_type": "code",
   "execution_count": 82,
   "metadata": {},
   "outputs": [
    {
     "name": "stdout",
     "output_type": "stream",
     "text": [
      "[[-1.59325501 -1.44115338 -1.22474487  0.39223227 -0.84515425  0.9258201 ]\n",
      " [-1.30357228  0.48038446  1.22474487  0.98058068  1.18321596 -0.46291005]\n",
      " [-1.01388955 -1.44115338  0.          1.56892908 -0.84515425 -0.9258201 ]\n",
      " [-0.72420682 -0.48038446  0.          0.39223227  1.18321596 -0.9258201 ]\n",
      " [-0.43452409  0.48038446  0.          1.56892908 -0.84515425 -0.46291005]\n",
      " [-0.14484136  1.44115338  0.         -0.19611614  1.18321596  0.        ]\n",
      " [ 0.14484136  1.44115338  1.22474487 -0.78446454 -0.84515425 -1.38873015]\n",
      " [ 0.43452409  0.48038446  1.22474487  0.39223227 -0.84515425  1.8516402 ]\n",
      " [ 0.72420682  0.48038446  1.22474487 -1.37281295  1.18321596  1.38873015]\n",
      " [ 1.01388955  0.48038446 -1.22474487 -0.78446454 -0.84515425  0.        ]\n",
      " [ 1.30357228 -0.48038446 -1.22474487 -1.37281295 -0.84515425 -0.9258201 ]\n",
      " [ 1.59325501 -1.44115338 -1.22474487 -0.78446454  1.18321596  0.9258201 ]]\n",
      "(8, 6) (4, 6) (8, 4) (4, 4)\n",
      "[[-1.30357228  0.48038446  1.22474487  0.98058068  1.18321596 -0.46291005]\n",
      " [ 0.14484136  1.44115338  1.22474487 -0.78446454 -0.84515425 -1.38873015]\n",
      " [-1.59325501 -1.44115338 -1.22474487  0.39223227 -0.84515425  0.9258201 ]\n",
      " [ 0.43452409  0.48038446  1.22474487  0.39223227 -0.84515425  1.8516402 ]\n",
      " [ 1.59325501 -1.44115338 -1.22474487 -0.78446454  1.18321596  0.9258201 ]\n",
      " [ 1.01388955  0.48038446 -1.22474487 -0.78446454 -0.84515425  0.        ]\n",
      " [ 0.72420682  0.48038446  1.22474487 -1.37281295  1.18321596  1.38873015]\n",
      " [-0.14484136  1.44115338  0.         -0.19611614  1.18321596  0.        ]] [[0 1 1 0]\n",
      " [1 0 1 0]\n",
      " [0 0 0 1]\n",
      " [0 1 1 1]\n",
      " [0 0 1 1]\n",
      " [1 1 0 0]\n",
      " [1 1 1 1]\n",
      " [1 0 1 0]]\n",
      "[[-1.01388955 -1.44115338  0.          1.56892908 -0.84515425 -0.9258201 ]\n",
      " [-0.72420682 -0.48038446  0.          0.39223227  1.18321596 -0.9258201 ]\n",
      " [-0.43452409  0.48038446  0.          1.56892908 -0.84515425 -0.46291005]\n",
      " [ 1.30357228 -0.48038446 -1.22474487 -1.37281295 -0.84515425 -0.9258201 ]] [[0 0 0 0]\n",
      " [0 0 1 0]\n",
      " [0 1 0 0]\n",
      " [1 0 0 0]]\n"
     ]
    }
   ],
   "source": [
    "X_train, X_test, y_train, y_test = train_test_split(X, y, test_size=0.33, random_state=1)\n",
    "print(X)\n",
    "print(X_train.shape, X_test.shape, y_train.shape, y_test.shape)\n",
    "print(X_train,y_train)\n",
    "print(X_test, y_test)"
   ]
  },
  {
   "cell_type": "markdown",
   "metadata": {},
   "source": [
    "# Using RandomForest"
   ]
  },
  {
   "cell_type": "code",
   "execution_count": 60,
   "metadata": {},
   "outputs": [
    {
     "name": "stdout",
     "output_type": "stream",
     "text": [
      "Accuracy: 0.250\n"
     ]
    }
   ],
   "source": [
    "model = RandomForestClassifier(random_state=1)\n",
    "model.fit(X_train, y_train)\n",
    "yhat = model.predict(X_test)\n",
    "#evaluate predictions\n",
    "acc = accuracy_score(y_test, yhat)\n",
    "print('Accuracy: %.3f' % acc)"
   ]
  },
  {
   "cell_type": "code",
   "execution_count": 29,
   "metadata": {},
   "outputs": [
    {
     "name": "stdout",
     "output_type": "stream",
     "text": [
      "[[0 0 1 1]\n",
      " [1 1 1 1]\n",
      " [0 0 0 1]]\n"
     ]
    }
   ],
   "source": [
    "y1=model.predict(d[-3:, :-4])\n",
    "print(y1)"
   ]
  },
  {
   "cell_type": "markdown",
   "metadata": {},
   "source": [
    "# Using Naive Bayes"
   ]
  },
  {
   "cell_type": "code",
   "execution_count": 77,
   "metadata": {},
   "outputs": [],
   "source": [
    "from sklearn.naive_bayes import GaussianNB"
   ]
  },
  {
   "cell_type": "code",
   "execution_count": 78,
   "metadata": {},
   "outputs": [],
   "source": [
    "gnb = GaussianNB()"
   ]
  },
  {
   "cell_type": "code",
   "execution_count": 79,
   "metadata": {},
   "outputs": [
    {
     "name": "stdout",
     "output_type": "stream",
     "text": [
      "Accuracy: 0.750\n"
     ]
    }
   ],
   "source": [
    "gnb.fit(X_train, y_train)\n",
    "yhat = gnb.predict(X_test)\n",
    "#evaluate predictions\n",
    "acc = accuracy_score(y_test, yhat)\n",
    "print('Accuracy: %.3f' % acc)"
   ]
  },
  {
   "cell_type": "code",
   "execution_count": 83,
   "metadata": {},
   "outputs": [],
   "source": [
    "from sklearn import svm"
   ]
  },
  {
   "cell_type": "code",
   "execution_count": 85,
   "metadata": {},
   "outputs": [
    {
     "name": "stdout",
     "output_type": "stream",
     "text": [
      "[0 1 1 0]\n"
     ]
    }
   ],
   "source": [
    "for item in y_train:\n",
    "    print (item)\n",
    "    break"
   ]
  },
  {
   "cell_type": "code",
   "execution_count": 86,
   "metadata": {
    "scrolled": true
   },
   "outputs": [
    {
     "name": "stdout",
     "output_type": "stream",
     "text": [
      "[[0 1 1 0]\n",
      " [1 0 1 0]\n",
      " [0 0 0 1]\n",
      " [0 1 1 1]\n",
      " [0 0 1 1]\n",
      " [1 1 0 0]\n",
      " [1 1 1 1]\n",
      " [1 0 1 0]]\n"
     ]
    }
   ],
   "source": [
    "print (y_train)"
   ]
  },
  {
   "cell_type": "code",
   "execution_count": 111,
   "metadata": {},
   "outputs": [],
   "source": [
    "s1=np.zeros((8,1))\n",
    "s2=np.zeros((8,1))\n",
    "s3=np.zeros((8,1))\n",
    "s4=np.zeros((8,1))\n"
   ]
  },
  {
   "cell_type": "code",
   "execution_count": 112,
   "metadata": {},
   "outputs": [],
   "source": [
    "i=0\n",
    "for item in y_train:\n",
    "    s1[i][0]=item[0]\n",
    "    i+=1\n",
    "\n",
    "i=0\n",
    "for item in y_train:\n",
    "    s2[i][0]=item[0]\n",
    "    i+=1\n",
    "    \n",
    "i=0\n",
    "for item in y_train:\n",
    "    s3[i][0]=item[0]\n",
    "    i+=1\n",
    "    \n",
    "i=0\n",
    "for item in y_train:\n",
    "    s4[i][0]=item[0]\n",
    "    i+=1\n",
    "    "
   ]
  },
  {
   "cell_type": "code",
   "execution_count": 113,
   "metadata": {},
   "outputs": [],
   "source": [
    "s1_test=np.zeros((4,1))\n",
    "s2_test=np.zeros((4,1))\n",
    "s3_test=np.zeros((4,1))\n",
    "s4_test=np.zeros((4,1))\n"
   ]
  },
  {
   "cell_type": "code",
   "execution_count": 114,
   "metadata": {},
   "outputs": [],
   "source": [
    "i=0\n",
    "for item in y_test:\n",
    "    s1_test[i][0]=item[0]\n",
    "    i+=1\n",
    "\n",
    "i=0\n",
    "for item in y_test:\n",
    "    s2_test[i][0]=item[0]\n",
    "    i+=1\n",
    "    \n",
    "i=0\n",
    "for item in y_test:\n",
    "    s3_test[i][0]=item[0]\n",
    "    i+=1\n",
    "    \n",
    "i=0\n",
    "for item in y_test:\n",
    "    s4_test[i][0]=item[0]\n",
    "    i+=1\n",
    "    "
   ]
  },
  {
   "cell_type": "code",
   "execution_count": 116,
   "metadata": {},
   "outputs": [
    {
     "name": "stdout",
     "output_type": "stream",
     "text": [
      "Accuracy: 1.000\n",
      "Accuracy: 1.000\n",
      "Accuracy: 1.000\n",
      "Accuracy: 1.000\n"
     ]
    },
    {
     "name": "stderr",
     "output_type": "stream",
     "text": [
      "C:\\Users\\Anshu\\anaconda3\\lib\\site-packages\\sklearn\\utils\\validation.py:760: DataConversionWarning: A column-vector y was passed when a 1d array was expected. Please change the shape of y to (n_samples, ), for example using ravel().\n",
      "  y = column_or_1d(y, warn=True)\n",
      "C:\\Users\\Anshu\\anaconda3\\lib\\site-packages\\sklearn\\utils\\validation.py:760: DataConversionWarning: A column-vector y was passed when a 1d array was expected. Please change the shape of y to (n_samples, ), for example using ravel().\n",
      "  y = column_or_1d(y, warn=True)\n",
      "C:\\Users\\Anshu\\anaconda3\\lib\\site-packages\\sklearn\\utils\\validation.py:760: DataConversionWarning: A column-vector y was passed when a 1d array was expected. Please change the shape of y to (n_samples, ), for example using ravel().\n",
      "  y = column_or_1d(y, warn=True)\n",
      "C:\\Users\\Anshu\\anaconda3\\lib\\site-packages\\sklearn\\utils\\validation.py:760: DataConversionWarning: A column-vector y was passed when a 1d array was expected. Please change the shape of y to (n_samples, ), for example using ravel().\n",
      "  y = column_or_1d(y, warn=True)\n"
     ]
    }
   ],
   "source": [
    "i=0\n",
    "clf=svm.SVC()\n",
    "for column in (s1,s2,s3,s4):\n",
    "    clf.fit(X_train,column)\n",
    "    yhat = clf.predict(X_test)\n",
    "    if i==0:\n",
    "        ytruth=s1_test\n",
    "    if i==1:\n",
    "        ytruth=s2_test\n",
    "    if i==2:\n",
    "        ytruth=s3_test\n",
    "    if i==3:\n",
    "        ytruth=s4_test\n",
    "    acc = accuracy_score(ytruth, yhat)\n",
    "    print('Accuracy: %.3f' % acc)\n",
    "    i+=1\n",
    "    "
   ]
  },
  {
   "cell_type": "code",
   "execution_count": null,
   "metadata": {},
   "outputs": [],
   "source": []
  }
 ],
 "metadata": {
  "kernelspec": {
   "display_name": "Python 3",
   "language": "python",
   "name": "python3"
  },
  "language_info": {
   "codemirror_mode": {
    "name": "ipython",
    "version": 3
   },
   "file_extension": ".py",
   "mimetype": "text/x-python",
   "name": "python",
   "nbconvert_exporter": "python",
   "pygments_lexer": "ipython3",
   "version": "3.7.6"
  }
 },
 "nbformat": 4,
 "nbformat_minor": 4
}
